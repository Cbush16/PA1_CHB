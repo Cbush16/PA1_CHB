{
 "cells": [
  {
   "cell_type": "markdown",
   "id": "2ff19896-5304-4d75-8030-69b97dc94f58",
   "metadata": {},
   "source": [
    "# Programming Assignment 1\n",
    "---\n",
    "**Author:** Caleb Bush  \n",
    "**Version:** 1.0  \n",
    "**Semester:** Spring 2024 \n",
    "\n",
    "This *notebook* contains my solution(s) to **Programming Assignment 1**"
   ]
  },
  {
   "cell_type": "markdown",
   "id": "6430428e-f84c-4216-a1e8-876c66916f5f",
   "metadata": {},
   "source": [
    "### Problem 1 - Manipulating Numbers"
   ]
  },
  {
   "cell_type": "code",
   "execution_count": 2,
   "id": "610f79af-bcd9-4fdd-b463-fc8323b98d79",
   "metadata": {
    "tags": []
   },
   "outputs": [
    {
     "name": "stdin",
     "output_type": "stream",
     "text": [
      "Enter a floating point number:  16.7\n",
      "Enter an integer:  12\n"
     ]
    },
    {
     "name": "stdout",
     "output_type": "stream",
     "text": [
      "The sum of the two numbers is 28.700.\n",
      "The type of the result is <class 'float'>\n",
      "The difference of the two numbers is 4.700.\n",
      "The type of the result is <class 'float'>\n",
      "The product of the two numbers is 200.400.\n",
      "The type of the result is <class 'float'>\n",
      "The quotient of the two numbers is 1.392.\n",
      "The type of the result is <class 'float'>\n"
     ]
    }
   ],
   "source": [
    "num1 = float(input(\"Enter a floating point number: \"))\n",
    "integer_n = int(input(\"Enter an integer: \"))\n",
    "result = num1 + integer_n\n",
    "print(f'The sum of the two numbers is {result:.3f}.')\n",
    "print(f'The type of the result is {type(result)}')\n",
    "result = num1 - integer_n\n",
    "print(f'The difference of the two numbers is {result:.3f}.')\n",
    "print(f'The type of the result is {type(result)}')\n",
    "result = num1 * integer_n \n",
    "print(f'The product of the two numbers is {result:.3f}.')\n",
    "print(f'The type of the result is {type(result)}')\n",
    "result = num1 / integer_n\n",
    "print(f'The quotient of the two numbers is {result:.3f}.')\n",
    "\n",
    "print(f'The type of the result is {type(result)}')"
   ]
  },
  {
   "cell_type": "markdown",
   "id": "d5539313-1b4b-4894-84f3-931f3278356d",
   "metadata": {},
   "source": [
    "### Problem 2 – Calculating Target Heart Rate"
   ]
  },
  {
   "cell_type": "code",
   "execution_count": 31,
   "id": "eb16f028-eabf-4ee4-89c5-b7719e4bf066",
   "metadata": {
    "tags": []
   },
   "outputs": [
    {
     "name": "stdin",
     "output_type": "stream",
     "text": [
      "Enter your age 18\n"
     ]
    }
   ],
   "source": [
    "age = int(input(\"Enter your age\"))"
   ]
  },
  {
   "cell_type": "code",
   "execution_count": 35,
   "id": "f8ef831c-7832-4a1f-a77f-80c01073e05f",
   "metadata": {
    "tags": []
   },
   "outputs": [
    {
     "name": "stdout",
     "output_type": "stream",
     "text": [
      "202\n"
     ]
    }
   ],
   "source": [
    "maxheart = 220 - age\n",
    "print(maxheart)"
   ]
  },
  {
   "cell_type": "code",
   "execution_count": 37,
   "id": "c06b26e0-aa6e-4fda-85e0-6c1a188b0ffe",
   "metadata": {
    "tags": []
   },
   "outputs": [
    {
     "name": "stdout",
     "output_type": "stream",
     "text": [
      "The max heartrate of the user is 202.0.\n",
      "The upper heartrate of the user for excercise is 101.0.\n",
      "The lower heartrate of the user for excercise is 171.7.\n"
     ]
    }
   ],
   "source": [
    "upper_r = maxheart * .5\n",
    "lower_r = maxheart * .85\n",
    "print(f'The max heartrate of the user is {maxheart:.1f}.')\n",
    "print(f'The upper heartrate of the user for excercise is {upper_r:.1f}.')\n",
    "print(f'The lower heartrate of the user for excercise is {lower_r:.1f}.')"
   ]
  }
 ],
 "metadata": {
  "kernelspec": {
   "display_name": "Python 3 (ipykernel)",
   "language": "python",
   "name": "python3"
  },
  "language_info": {
   "codemirror_mode": {
    "name": "ipython",
    "version": 3
   },
   "file_extension": ".py",
   "mimetype": "text/x-python",
   "name": "python",
   "nbconvert_exporter": "python",
   "pygments_lexer": "ipython3",
   "version": "3.11.5"
  }
 },
 "nbformat": 4,
 "nbformat_minor": 5
}
